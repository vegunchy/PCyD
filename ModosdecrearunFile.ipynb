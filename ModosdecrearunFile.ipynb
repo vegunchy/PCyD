{
 "cells": [
  {
   "cell_type": "code",
   "execution_count": 16,
   "id": "8ab85ce4-8c99-4142-af3c-30ae232223c0",
   "metadata": {},
   "outputs": [
    {
     "name": "stdin",
     "output_type": "stream",
     "text": [
      "Ingresa tu nickname:  vega\n"
     ]
    }
   ],
   "source": [
    "\n",
    "    with open(\"ue22131885.text\", 'a') as f:\n",
    "        nick = input(\"Ingresa tu nickname: \")\n",
    "        f.write(nick)"
   ]
  },
  {
   "cell_type": "code",
   "execution_count": 11,
   "id": "7e326cc0-939c-40cd-b8fd-2cd4f6f3d43f",
   "metadata": {},
   "outputs": [],
   "source": [
    "!ls ue22131885.txt"
   ]
  },
  {
   "cell_type": "code",
   "execution_count": 1,
   "id": "fe3e80fc-2d02-4d35-bbe5-445e085da5d8",
   "metadata": {},
   "outputs": [
    {
     "name": "stderr",
     "output_type": "stream",
     "text": [
      "\"less\" no se reconoce como un comando interno o externo,\n",
      "programa o archivo por lotes ejecutable.\n"
     ]
    }
   ],
   "source": [
    "! less ue22131885.txt"
   ]
  },
  {
   "cell_type": "markdown",
   "id": "b13555ad-d353-4fba-96c0-989f2da2b59f",
   "metadata": {},
   "source": [
    "# Modos de crear un file"
   ]
  },
  {
   "cell_type": "markdown",
   "id": "e4a88748-0b96-475a-8bd0-1030f8842c4a",
   "metadata": {},
   "source": [
    "## append\n",
    "## read\n",
    "## write\n",
    "## create"
   ]
  },
  {
   "cell_type": "code",
   "execution_count": 17,
   "id": "7c1884b9-ec40-46fd-8d2c-ba22932115cd",
   "metadata": {},
   "outputs": [],
   "source": []
  },
  {
   "cell_type": "code",
   "execution_count": 6,
   "id": "955ad579-9a57-42b4-b720-021c1d15bd83",
   "metadata": {},
   "outputs": [],
   "source": []
  },
  {
   "cell_type": "code",
   "execution_count": 7,
   "id": "03e6bd9e-1827-4ec1-8945-9dd1eed52d65",
   "metadata": {
    "jupyter": {
     "source_hidden": true
    },
    "tags": []
   },
   "outputs": [],
   "source": []
  },
  {
   "cell_type": "code",
   "execution_count": null,
   "id": "b689b7b1-c1de-4627-98c2-dfba0fa33ec1",
   "metadata": {},
   "outputs": [],
   "source": []
  }
 ],
 "metadata": {
  "kernelspec": {
   "display_name": "Python 3 (ipykernel)",
   "language": "python",
   "name": "python3"
  },
  "language_info": {
   "codemirror_mode": {
    "name": "ipython",
    "version": 3
   },
   "file_extension": ".py",
   "mimetype": "text/x-python",
   "name": "python",
   "nbconvert_exporter": "python",
   "pygments_lexer": "ipython3",
   "version": "3.10.7"
  }
 },
 "nbformat": 4,
 "nbformat_minor": 5
}
