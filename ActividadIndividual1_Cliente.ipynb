{
 "cells": [
  {
   "cell_type": "code",
   "execution_count": 1,
   "id": "6380244f-a618-45c1-945c-a798b4aba149",
   "metadata": {},
   "outputs": [],
   "source": [
    "import socket\n",
    "import threading\n",
    "import sys\n",
    "import pickle\n",
    "import os"
   ]
  },
  {
   "cell_type": "code",
   "execution_count": 18,
   "id": "469026ae-006e-4da9-a292-9347592e5310",
   "metadata": {},
   "outputs": [
    {
     "ename": "NameError",
     "evalue": "name 'socket' is not defined",
     "output_type": "error",
     "traceback": [
      "\u001B[1;31m---------------------------------------------------------------------------\u001B[0m",
      "\u001B[1;31mNameError\u001B[0m                                 Traceback (most recent call last)",
      "Cell \u001B[1;32mIn [18], line 1\u001B[0m\n\u001B[1;32m----> 1\u001B[0m \u001B[38;5;28;01mclass\u001B[39;00m \u001B[38;5;21;01mCliente\u001B[39;00m():\n\u001B[0;32m      3\u001B[0m \t\u001B[38;5;28;01mdef\u001B[39;00m \u001B[38;5;21m__init__\u001B[39m(\u001B[38;5;28mself\u001B[39m, host\u001B[38;5;241m=\u001B[39msocket\u001B[38;5;241m.\u001B[39mgethostname(), port\u001B[38;5;241m=\u001B[39m\u001B[38;5;241m59989\u001B[39m):\n\u001B[0;32m      4\u001B[0m \t\t\u001B[38;5;28mself\u001B[39m\u001B[38;5;241m.\u001B[39msock \u001B[38;5;241m=\u001B[39m socket\u001B[38;5;241m.\u001B[39msocket()\n",
      "Cell \u001B[1;32mIn [18], line 3\u001B[0m, in \u001B[0;36mCliente\u001B[1;34m()\u001B[0m\n\u001B[0;32m      1\u001B[0m \u001B[38;5;28;01mclass\u001B[39;00m \u001B[38;5;21;01mCliente\u001B[39;00m():\n\u001B[1;32m----> 3\u001B[0m \t\u001B[38;5;28;01mdef\u001B[39;00m \u001B[38;5;21m__init__\u001B[39m(\u001B[38;5;28mself\u001B[39m, host\u001B[38;5;241m=\u001B[39m\u001B[43msocket\u001B[49m\u001B[38;5;241m.\u001B[39mgethostname(), port\u001B[38;5;241m=\u001B[39m\u001B[38;5;241m59989\u001B[39m):\n\u001B[0;32m      4\u001B[0m \t\t\u001B[38;5;28mself\u001B[39m\u001B[38;5;241m.\u001B[39msock \u001B[38;5;241m=\u001B[39m socket\u001B[38;5;241m.\u001B[39msocket()\n\u001B[0;32m      5\u001B[0m \t\t\u001B[38;5;28mself\u001B[39m\u001B[38;5;241m.\u001B[39msock\u001B[38;5;241m.\u001B[39mconnect((\u001B[38;5;28mstr\u001B[39m(host), \u001B[38;5;28mint\u001B[39m(port)))\n",
      "\u001B[1;31mNameError\u001B[0m: name 'socket' is not defined"
     ]
    }
   ],
   "source": [
    "class Cliente():\n",
    "\n",
    "\tdef __init__(self, host=socket.gethostname(), port=59989):\n",
    "\t\t# El puerto no corresponde con tu número de expediente\n",
    "\t\tself.sock = socket.socket()\n",
    "\t\tself.sock.connect((str(host), int(port)))\n",
    "\t\thilo_recv_mensaje = threading.Thread(target=self.recibir)\n",
    "\t\thilo_recv_mensaje.daemon = True\n",
    "\t\thilo_recv_mensaje.start()\n",
    "\t\tprint('Hilo con PID',os.getpid())\n",
    "\t\tprint('Hilos activos', threading.active_count())\n",
    "\n",
    "\t\twhile True:\n",
    "\t\t\tmsg = input('\\nEscriba texto ? ** Enviar = ENTER ** Abandonar Chat = Q \\n')\n",
    "\t\t\tif msg != 'Q' :\n",
    "\t\t\t\tself.enviar(msg)\n",
    "\t\t\telse:\n",
    "\t\t\t\tprint(\" **** TALOGOOO  ****\")\n",
    "\t\t\t\tself.sock.close()\n",
    "\t\t\t\tsys.exit()\n",
    "\n",
    "\tdef recibir(self):\n",
    "\t\twhile True:\n",
    "\t\t\ttry:\n",
    "\t\t\t\tdata = self.sock.recv(32)\n",
    "\t\t\t\tif data:\n",
    "\t\t\t\t\tprint(pickle.loads(data))\n",
    "\t\t\texcept:\n",
    "\t\t\t\tpass\n",
    "\n",
    "\tdef enviar(self, msg):\n",
    "\t\tself.sock.send(pickle.dumps(msg))\n",
    "\n",
    "c = Cliente()"
   ]
  },
  {
   "cell_type": "code",
   "execution_count": null,
   "id": "97b0aad7-037b-4337-b38d-06d0ca7cca77",
   "metadata": {},
   "outputs": [],
   "source": []
  }
 ],
 "metadata": {
  "kernelspec": {
   "display_name": "Python 3 (ipykernel)",
   "language": "python",
   "name": "python3"
  },
  "language_info": {
   "codemirror_mode": {
    "name": "ipython",
    "version": 3
   },
   "file_extension": ".py",
   "mimetype": "text/x-python",
   "name": "python",
   "nbconvert_exporter": "python",
   "pygments_lexer": "ipython3",
   "version": "3.10.7"
  }
 },
 "nbformat": 4,
 "nbformat_minor": 5
}
