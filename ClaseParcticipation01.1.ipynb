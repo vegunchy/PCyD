{
 "cells": [
  {
   "cell_type": "markdown",
   "id": "57decdf7-6c74-40c8-b2ed-4aec4de379e8",
   "metadata": {},
   "source": [
    "## Ataco 100 veces a mi compañero"
   ]
  },
  {
   "cell_type": "code",
   "execution_count": 1,
   "id": "bfaf9a91-c15c-4637-8ce8-f26d6efd4a70",
   "metadata": {},
   "outputs": [],
   "source": [
    "import threading, os, platform, requests, json"
   ]
  },
  {
   "cell_type": "code",
   "execution_count": 7,
   "id": "45c14d0b-f960-4dd2-ac10-cd72c8e1e79c",
   "metadata": {},
   "outputs": [],
   "source": [
    "ataque_a_mi_compañero = 100"
   ]
  },
  {
   "cell_type": "code",
   "execution_count": 18,
   "id": "b68d07c9-7115-4466-a050-d59b953df361",
   "metadata": {},
   "outputs": [],
   "source": [
    "isma=\"https://github.com/sysialvarez/concurrent\""
   ]
  },
  {
   "cell_type": "code",
   "execution_count": 20,
   "id": "6d7f2632-db76-43e5-9719-7323b65a5afc",
   "metadata": {},
   "outputs": [],
   "source": [
    "def matar_compi():\n",
    "    print(requests.get(isma))\n",
    "    threading.current_thread()"
   ]
  },
  {
   "cell_type": "code",
   "execution_count": 22,
   "id": "2220e8cf-8e03-4c03-818a-f6a1c0aec79e",
   "metadata": {},
   "outputs": [
    {
     "name": "stdout",
     "output_type": "stream",
     "text": [
      "<Response [200]>\n",
      "<Response [200]>\n",
      "<Response [200]>\n",
      "<Response [200]>\n",
      "<Response [200]>\n",
      "<Response [200]>\n",
      "<Response [200]>\n",
      "<Response [200]>\n",
      "<Response [200]>\n",
      "<Response [200]>\n",
      "<Response [200]>\n",
      "<Response [200]>\n",
      "<Response [200]>\n",
      "<Response [200]>\n",
      "<Response [200]>\n",
      "<Response [200]>\n",
      "<Response [200]>\n",
      "<Response [200]>\n",
      "<Response [200]>\n",
      "<Response [200]>\n",
      "<Response [200]>\n",
      "<Response [200]>\n",
      "<Response [200]>\n",
      "<Response [200]>\n",
      "<Response [200]>\n",
      "<Response [200]>\n",
      "<Response [200]>\n",
      "<Response [200]>\n",
      "<Response [200]>\n",
      "<Response [200]>\n",
      "<Response [200]>\n",
      "<Response [200]>\n",
      "<Response [200]>\n",
      "<Response [200]>\n",
      "<Response [200]>\n",
      "<Response [200]>\n",
      "<Response [200]>\n",
      "<Response [200]>\n",
      "<Response [200]>\n",
      "<Response [200]>\n",
      "<Response [200]>\n",
      "<Response [200]>\n",
      "<Response [200]>\n",
      "<Response [200]>\n",
      "<Response [200]>\n",
      "<Response [200]>\n",
      "<Response [200]>\n",
      "<Response [200]>\n",
      "<Response [200]>\n",
      "<Response [200]>\n",
      "<Response [200]>\n",
      "<Response [200]>\n",
      "<Response [200]>\n",
      "<Response [200]>\n",
      "<Response [200]>\n",
      "<Response [200]>\n",
      "<Response [200]>\n",
      "<Response [200]>\n",
      "<Response [200]>\n",
      "<Response [200]>\n",
      "<Response [200]>\n",
      "<Response [200]>\n",
      "<Response [200]>\n",
      "<Response [200]>\n",
      "<Response [200]>\n",
      "<Response [200]>\n",
      "<Response [200]>\n",
      "<Response [200]>\n",
      "<Response [200]>\n",
      "<Response [200]>\n",
      "<Response [200]>\n",
      "<Response [200]>\n",
      "<Response [200]>\n",
      "<Response [200]>\n",
      "<Response [200]>\n",
      "<Response [200]>\n",
      "<Response [200]>\n",
      "<Response [200]>\n",
      "<Response [200]>\n",
      "<Response [200]>\n",
      "<Response [200]>\n",
      "<Response [200]>\n",
      "<Response [200]>\n",
      "<Response [200]>\n",
      "<Response [200]>\n",
      "<Response [200]>\n",
      "<Response [200]>\n",
      "<Response [200]>\n",
      "<Response [200]>\n",
      "<Response [200]>\n",
      "<Response [200]>\n",
      "<Response [200]>\n",
      "<Response [200]>\n",
      "<Response [200]>\n",
      "<Response [200]>\n",
      "<Response [200]>\n",
      "<Response [200]>\n",
      "<Response [200]>\n",
      "<Response [200]>\n",
      "<Response [200]>\n"
     ]
    }
   ],
   "source": [
    "for i in range(ataque_a_mi_compañero):\n",
    "    threading.Thread(target=matar_compi()).start()"
   ]
  },
  {
   "cell_type": "code",
   "execution_count": null,
   "id": "875c057a-f976-4981-8999-dfc9f792c911",
   "metadata": {},
   "outputs": [],
   "source": []
  }
 ],
 "metadata": {
  "kernelspec": {
   "display_name": "Python 3 (ipykernel)",
   "language": "python",
   "name": "python3"
  },
  "language_info": {
   "codemirror_mode": {
    "name": "ipython",
    "version": 3
   },
   "file_extension": ".py",
   "mimetype": "text/x-python",
   "name": "python",
   "nbconvert_exporter": "python",
   "pygments_lexer": "ipython3",
   "version": "3.10.7"
  }
 },
 "nbformat": 4,
 "nbformat_minor": 5
}
