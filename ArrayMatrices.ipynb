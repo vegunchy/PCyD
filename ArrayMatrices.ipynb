{
 "cells": [
  {
   "cell_type": "code",
   "execution_count": 1,
   "id": "a39244d3-d50a-4b61-a9ea-8c7a800732dc",
   "metadata": {},
   "outputs": [],
   "source": [
    "import random"
   ]
  },
  {
   "cell_type": "code",
   "execution_count": 3,
   "id": "1717f6d7-9449-45b6-b911-3f350316a136",
   "metadata": {},
   "outputs": [],
   "source": [
    "import math"
   ]
  },
  {
   "cell_type": "code",
   "execution_count": 33,
   "id": "744748ff-dcf5-46bb-aaa7-ab79e391eae7",
   "metadata": {},
   "outputs": [],
   "source": [
    "import multiprocessing as mp"
   ]
  },
  {
   "cell_type": "code",
   "execution_count": 5,
   "id": "765b59a0-b36a-4a53-a1ea-5e6b2872f886",
   "metadata": {},
   "outputs": [],
   "source": [
    "import time"
   ]
  },
  {
   "cell_type": "code",
   "execution_count": 36,
   "id": "ef434a8c-f1cc-4b03-a115-dbad71cfa6cb",
   "metadata": {},
   "outputs": [],
   "source": [
    "def sec_mult(A,B): \n",
    "    C = [[0] * n_col_B for i in range(n_fil_A)]\n",
    "    for i in range (n_fil_A):\n",
    "        for j in range (n_col_B):\n",
    "            for k in range (n_col_A):\n",
    "                C[i][j] += A[i][k] * B[k][j]\n",
    "                \n",
    "    return C"
   ]
  },
  {
   "cell_type": "code",
   "execution_count": 43,
   "id": "d8d4e7ee-ef40-47e2-b748-47b5447a6f47",
   "metadata": {},
   "outputs": [],
   "source": [
    "def par_mult(A,B):\n",
    "    n_cores = mp.cpu_count()\n",
    "    size_col = math.ceil(n_col_B/n_cores)\n",
    "    size_file = math.ceil(n_col_A/n_cores)\n",
    "    MC = mp.RawArray('i', n_fil_A * n_col_B)\n",
    "    cores = []\n",
    "    for core in range(n_cores):\n",
    "        i_MC = min(core * size_file, n_fil_A)\n",
    "        f_MC = min ((core + 1) * size_file, n_fil_A)\n",
    "        cores.append (mp.Process(target=par_core, args=(A, B, MC, i_MC, f_MC)))\n",
    "    for core in cores:\n",
    "        core.start()\n",
    "    for core in cores:\n",
    "        core.join()\n",
    "    C_2D = [[0] * n_col_B for i in range(n_fil_A)]\n",
    "    for i in range (n_fil_A):\n",
    "        for j in range (n_col_B):\n",
    "            C_2D[i][j] = MC[i*n_col_B + j]\n",
    "    return C_2D"
   ]
  },
  {
   "cell_type": "code",
   "execution_count": 44,
   "id": "baf41e0f-5006-41e0-bbe0-005ade16efc2",
   "metadata": {},
   "outputs": [],
   "source": [
    "def par_core (A, B, MC, i_MC, f_MC):\n",
    "    for i in range(i_MC, f_MC):\n",
    "        for j in range (len(B[0])):\n",
    "            for k in range (len(A[0])):\n",
    "                MC[i*len(B[0]) + j] += A[i][k] * B[k][j]"
   ]
  },
  {
   "cell_type": "code",
   "execution_count": 63,
   "id": "9338a8f9-2075-461c-b1ae-32c2c83e23b6",
   "metadata": {},
   "outputs": [
    {
     "name": "stdout",
     "output_type": "stream",
     "text": [
      "\n",
      "\n",
      "Matriz A y B se han multiplicado con exito en SECUENCIAL ha tardado  0.061478614807128906  y en PARALELO  0.8588857650756836\n"
     ]
    }
   ],
   "source": [
    "if __name__ == '__main__':\n",
    "    A = [[random.randint(0,215) for i in range(6)] for j in range (223)]\n",
    "    B = [[random.randint(0,215) for i in range(200)] for j in range (6)]\n",
    "    n_fil_A = len(A)\n",
    "    n_col_A = len(A[0])\n",
    "    n_fil_B = len(B)\n",
    "    n_col_B = len(B[0])  \n",
    "    if n_col_A != n_fil_B: raise Exception('Dimension no validas')\n",
    "    inicioS = time.time()\n",
    "    sec_mult(A,B)\n",
    "    finS = time.time()\n",
    "    inicioP = time.time()\n",
    "    par_mult(A,B)\n",
    "    finP = time.time()\n",
    "    print('\\n\\nMatriz A y B se han multiplicado con exito en SECUENCIAL ha tardado ', finS-inicioS, ' y en PARALELO ', finP-inicioP)\n",
    "          "
   ]
  },
  {
   "cell_type": "code",
   "execution_count": null,
   "id": "79c153b5-1fbd-4863-b6c7-bd2a3e34e34b",
   "metadata": {},
   "outputs": [],
   "source": []
  },
  {
   "cell_type": "code",
   "execution_count": null,
   "id": "046ef8c9-04b7-4a89-899e-d4abab8f9303",
   "metadata": {},
   "outputs": [],
   "source": []
  }
 ],
 "metadata": {
  "kernelspec": {
   "display_name": "Python 3 (ipykernel)",
   "language": "python",
   "name": "python3"
  },
  "language_info": {
   "codemirror_mode": {
    "name": "ipython",
    "version": 3
   },
   "file_extension": ".py",
   "mimetype": "text/x-python",
   "name": "python",
   "nbconvert_exporter": "python",
   "pygments_lexer": "ipython3",
   "version": "3.10.7"
  }
 },
 "nbformat": 4,
 "nbformat_minor": 5
}
