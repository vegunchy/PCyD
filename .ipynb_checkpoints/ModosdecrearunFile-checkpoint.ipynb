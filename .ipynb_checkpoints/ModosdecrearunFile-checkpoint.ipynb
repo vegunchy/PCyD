{
 "cells": [
  {
   "cell_type": "code",
   "execution_count": 2,
   "id": "99882554-7755-4076-ae59-10d9220fe7c9",
   "metadata": {},
   "outputs": [
    {
     "ename": "NameError",
     "evalue": "name 'raux' is not defined",
     "output_type": "error",
     "traceback": [
      "\u001b[1;31m---------------------------------------------------------------------------\u001b[0m",
      "\u001b[1;31mNameError\u001b[0m                                 Traceback (most recent call last)",
      "Cell \u001b[1;32mIn [2], line 1\u001b[0m\n\u001b[1;32m----> 1\u001b[0m \u001b[38;5;28mopen\u001b[39m(\u001b[38;5;124m\"\u001b[39m\u001b[38;5;124mue22131885.text\u001b[39m\u001b[38;5;124m\"\u001b[39m, \u001b[43mraux\u001b[49m)\n",
      "\u001b[1;31mNameError\u001b[0m: name 'raux' is not defined"
     ]
    }
   ],
   "source": [
    "open(\"ue22131885.text\", raux)"
   ]
  },
  {
   "cell_type": "code",
   "execution_count": 4,
   "id": "c589e32a-7ff8-48e4-b621-dbc1a2baae71",
   "metadata": {},
   "outputs": [],
   "source": [
    "##append"
   ]
  },
  {
   "cell_type": "code",
   "execution_count": 5,
   "id": "7c1884b9-ec40-46fd-8d2c-ba22932115cd",
   "metadata": {},
   "outputs": [],
   "source": [
    "#read"
   ]
  },
  {
   "cell_type": "code",
   "execution_count": 6,
   "id": "955ad579-9a57-42b4-b720-021c1d15bd83",
   "metadata": {},
   "outputs": [],
   "source": [
    "#write"
   ]
  },
  {
   "cell_type": "code",
   "execution_count": 7,
   "id": "03e6bd9e-1827-4ec1-8945-9dd1eed52d65",
   "metadata": {},
   "outputs": [],
   "source": [
    "#create"
   ]
  },
  {
   "cell_type": "code",
   "execution_count": null,
   "id": "b689b7b1-c1de-4627-98c2-dfba0fa33ec1",
   "metadata": {},
   "outputs": [],
   "source": []
  }
 ],
 "metadata": {
  "kernelspec": {
   "display_name": "Python 3 (ipykernel)",
   "language": "python",
   "name": "python3"
  },
  "language_info": {
   "codemirror_mode": {
    "name": "ipython",
    "version": 3
   },
   "file_extension": ".py",
   "mimetype": "text/x-python",
   "name": "python",
   "nbconvert_exporter": "python",
   "pygments_lexer": "ipython3",
   "version": "3.10.7"
  }
 },
 "nbformat": 4,
 "nbformat_minor": 5
}
