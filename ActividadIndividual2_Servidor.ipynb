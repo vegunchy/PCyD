{
 "cells": [
  {
   "cell_type": "code",
   "execution_count": 1,
   "id": "57cc407c-5d51-4268-88f1-7176efbb9d42",
   "metadata": {},
   "outputs": [],
   "source": [
    "import socket\n",
    "import threading\n",
    "import sys\n",
    "import pickle\n",
    "import os"
   ]
  },
  {
   "cell_type": "code",
   "execution_count": null,
   "id": "4941465a-418f-42d0-8ca3-db31f136dd81",
   "metadata": {},
   "outputs": [
    {
     "name": "stdout",
     "output_type": "stream",
     "text": [
      "Procesamiento de mensajes iniciado\n"
     ]
    }
   ],
   "source": [
    "class Servidor():\n",
    "\tdef __init__(self, host=socket.gethostname(), port=59989):\n",
    "\t\tself.clientes = []\n",
    "\t\tself.sock = socket.socket()\n",
    "\t\tself.sock.bind((str(host), int(port)))\n",
    "\t\tself.sock.listen(20)\n",
    "\t\tself.sock.setblocking(False)\n",
    "\n",
    "\t\taceptar = threading.Thread(target=self.aceptarC)\n",
    "\t\tprocesar = threading.Thread(target=self.procesarC)\n",
    "\t\t\n",
    "\t\taceptar.daemon = True\n",
    "\t\taceptar.start()\n",
    "\n",
    "\t\tprocesar.daemon = True\n",
    "\t\tprocesar.start()\n",
    "\n",
    "\t\twhile True:\n",
    "\t\t\tmsg = input('SALIR = Q\\n')\n",
    "\t\t\tif msg == 'Q':\n",
    "\t\t\t\tprint(\"**** TALOGOOO *****\")\n",
    "\t\t\t\tself.sock.close()\n",
    "\t\t\t\tsys.exit()\n",
    "\t\t\telse:\n",
    "\t\t\t\tpass\n",
    "\n",
    "\tdef broadcast(self, msg, cliente):\n",
    "\t\tfor c in self.clientes:\n",
    "\t\t\ttry:\n",
    "\t\t\t\tif c != cliente:\n",
    "\t\t\t\t\tc.send(msg)\n",
    "\t\t\texcept:\n",
    "\t\t\t\tself.clientes.remove(c)\n",
    "\n",
    "\tdef aceptarC(self):\n",
    "\t\twhile True:\n",
    "\t\t\ttry:\n",
    "\t\t\t\tconn, addr = self.sock.accept()\n",
    "\t\t\t\tprint(f\"\\nConexion aceptada via {conn}\\n\")\n",
    "\t\t\t\tconn.setblocking(False)\n",
    "\t\t\t\tself.clientes.append(conn)\n",
    "\t\t\texcept:\n",
    "\t\t\t\tpass\n",
    "\n",
    "\tdef procesarC(self):\n",
    "\t\tprint(\"Procesamiento de mensajes iniciado\")\n",
    "\t\twhile True:\n",
    "\t\t\tif len(self.clientes) > 0:\n",
    "\t\t\t\tfor c in self.clientes:\n",
    "\t\t\t\t\ttry:\n",
    "\t\t\t\t\t\tdata = c.recv(32)\n",
    "\t\t\t\t\t\tif data:\n",
    "\t\t\t\t\t\t\tself.broadcast(data,c)\n",
    "\t\t\t\t\texcept:\n",
    "\t\t\t\t\t\tpass\n",
    "\n",
    "s = Servidor()"
   ]
  },
  {
   "cell_type": "code",
   "execution_count": 27,
   "id": "b5f4dfaa-c2bd-4b18-856c-76d7ffbd8147",
   "metadata": {},
   "outputs": [],
   "source": []
  },
  {
   "cell_type": "code",
   "execution_count": 28,
   "id": "5ae2ff49-e415-4306-8575-4cd497857e4c",
   "metadata": {},
   "outputs": [],
   "source": []
  },
  {
   "cell_type": "code",
   "execution_count": 29,
   "id": "00f3dcc0-5f56-48ae-8727-e752671bf877",
   "metadata": {},
   "outputs": [],
   "source": []
  },
  {
   "cell_type": "code",
   "execution_count": 34,
   "id": "173e02a7-3631-4a14-88bc-9e43ca66f5fe",
   "metadata": {},
   "outputs": [
    {
     "name": "stdout",
     "output_type": "stream",
     "text": [
      "\n",
      "Su IP actual es :  192.168.180.1\n",
      "\n",
      "\tProceso con PID =  18840 \n",
      "\tHilo PRINCIPAL con ID = MainThread \n",
      "\tHilo en modo DAEMON =  False \n",
      "\tTotal Hilos activos en este punto del programa = 6\n"
     ]
    },
    {
     "name": "stderr",
     "output_type": "stream",
     "text": [
      "C:\\Users\\vicga\\AppData\\Local\\Temp\\ipykernel_18840\\376886274.py:6: DeprecationWarning: currentThread() is deprecated, use current_thread() instead\n",
      "  print('\\n\\tProceso con PID = ',os.getpid(), '\\n\\tHilo PRINCIPAL con ID =',threading.currentThread().getName(), '\\n\\tHilo en modo DAEMON = ', threading.currentThread().isDaemon(), '\\n\\tTotal Hilos activos en este punto del programa =', threading.active_count())\n",
      "C:\\Users\\vicga\\AppData\\Local\\Temp\\ipykernel_18840\\376886274.py:6: DeprecationWarning: getName() is deprecated, get the name attribute instead\n",
      "  print('\\n\\tProceso con PID = ',os.getpid(), '\\n\\tHilo PRINCIPAL con ID =',threading.currentThread().getName(), '\\n\\tHilo en modo DAEMON = ', threading.currentThread().isDaemon(), '\\n\\tTotal Hilos activos en este punto del programa =', threading.active_count())\n",
      "C:\\Users\\vicga\\AppData\\Local\\Temp\\ipykernel_18840\\376886274.py:6: DeprecationWarning: isDaemon() is deprecated, get the daemon attribute instead\n",
      "  print('\\n\\tProceso con PID = ',os.getpid(), '\\n\\tHilo PRINCIPAL con ID =',threading.currentThread().getName(), '\\n\\tHilo en modo DAEMON = ', threading.currentThread().isDaemon(), '\\n\\tTotal Hilos activos en este punto del programa =', threading.active_count())\n"
     ]
    },
    {
     "ename": "AttributeError",
     "evalue": "'Servidor' object has no attribute 'aceptarC'",
     "output_type": "error",
     "traceback": [
      "\u001b[1;31m---------------------------------------------------------------------------\u001b[0m",
      "\u001b[1;31mAttributeError\u001b[0m                            Traceback (most recent call last)",
      "Cell \u001b[1;32mIn [34], line 1\u001b[0m\n\u001b[1;32m----> 1\u001b[0m arrancar \u001b[38;5;241m=\u001b[39m \u001b[43mServidor\u001b[49m\u001b[43m(\u001b[49m\u001b[43m)\u001b[49m\n",
      "Cell \u001b[1;32mIn [33], line 12\u001b[0m, in \u001b[0;36mServidor.__init__\u001b[1;34m(self, host, port)\u001b[0m\n\u001b[0;32m      9\u001b[0m \u001b[38;5;28mself\u001b[39m\u001b[38;5;241m.\u001b[39msock\u001b[38;5;241m.\u001b[39mlisten(\u001b[38;5;241m30\u001b[39m)\n\u001b[0;32m     10\u001b[0m \u001b[38;5;28mself\u001b[39m\u001b[38;5;241m.\u001b[39msock\u001b[38;5;241m.\u001b[39msetblocking(\u001b[38;5;28;01mFalse\u001b[39;00m)\n\u001b[1;32m---> 12\u001b[0m threading\u001b[38;5;241m.\u001b[39mThread(target\u001b[38;5;241m=\u001b[39m\u001b[38;5;28;43mself\u001b[39;49m\u001b[38;5;241;43m.\u001b[39;49m\u001b[43maceptarC\u001b[49m, daemon\u001b[38;5;241m=\u001b[39m\u001b[38;5;28;01mTrue\u001b[39;00m)\u001b[38;5;241m.\u001b[39mstart()\n\u001b[0;32m     13\u001b[0m threading\u001b[38;5;241m.\u001b[39mThread(target\u001b[38;5;241m=\u001b[39m\u001b[38;5;28mself\u001b[39m\u001b[38;5;241m.\u001b[39mprocesarC, daemon\u001b[38;5;241m=\u001b[39m\u001b[38;5;28;01mTrue\u001b[39;00m)\u001b[38;5;241m.\u001b[39mstart()\n\u001b[0;32m     15\u001b[0m \u001b[38;5;28;01mwhile\u001b[39;00m \u001b[38;5;28;01mTrue\u001b[39;00m:\n",
      "\u001b[1;31mAttributeError\u001b[0m: 'Servidor' object has no attribute 'aceptarC'"
     ]
    }
   ],
   "source": []
  },
  {
   "cell_type": "code",
   "execution_count": null,
   "id": "dee60252-eeb3-42a2-87a4-9bc930cdef85",
   "metadata": {},
   "outputs": [],
   "source": []
  }
 ],
 "metadata": {
  "kernelspec": {
   "display_name": "Python 3 (ipykernel)",
   "language": "python",
   "name": "python3"
  },
  "language_info": {
   "codemirror_mode": {
    "name": "ipython",
    "version": 3
   },
   "file_extension": ".py",
   "mimetype": "text/x-python",
   "name": "python",
   "nbconvert_exporter": "python",
   "pygments_lexer": "ipython3",
   "version": "3.10.7"
  }
 },
 "nbformat": 4,
 "nbformat_minor": 5
}
