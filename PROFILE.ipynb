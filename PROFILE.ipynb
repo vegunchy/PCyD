{
 "cells": [
  {
   "cell_type": "markdown",
   "id": "6a482bc3-0d95-4c4f-b498-240ffc164018",
   "metadata": {},
   "source": [
    "<!-- PROFILE LINK -->\n",
    "\n",
    "<h1 style = \"text-align:center; font-size: 30px\">PROGRAMACIÓN CONCURRENTE Y DISTRIBUIDA</h1>\n",
    "\n",
    "<a href=\"https://github.com/vegunchy\">\n",
    "\n",
    "<img src=\"https://avatars.githubusercontent.com/u/99171471?s=400&u=50c496d5473ff25a34114824cd8570739c8f3492&v=4\" style=\"float:left;vertical-align:center\" width=\"110\" height=\"110\" title = \"Victor Vega Rodriguez / 22131885\">\n",
    "\n",
    "<a href =\"https://github.com/vegunchy/PCyD22131885\">\n",
    "\n",
    "<img src=\"https://media-exp1.licdn.com/dms/image/C4D0BAQEu_Aa76fcmPw/company-logo_200_200/0/1630998679429?e=2159024400&v=beta&t=2feC9GG7RWCWizTqsK5HzDWB1TL2DOQuAVwnMf6FFvk\" title = \"M41\" alt=\"UE\" width=\"110\" height=\"110\" style=\"float:right;vertical-align:centre\">"
   ]
  }
 ],
 "metadata": {
  "kernelspec": {
   "display_name": "Python 3 (ipykernel)",
   "language": "python",
   "name": "python3"
  },
  "language_info": {
   "codemirror_mode": {
    "name": "ipython",
    "version": 3
   },
   "file_extension": ".py",
   "mimetype": "text/x-python",
   "name": "python",
   "nbconvert_exporter": "python",
   "pygments_lexer": "ipython3",
   "version": "3.10.7"
  }
 },
 "nbformat": 4,
 "nbformat_minor": 5
}
